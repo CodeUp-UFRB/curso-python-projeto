{
  "nbformat": 4,
  "nbformat_minor": 0,
  "metadata": {
    "colab": {
      "name": "Aula-Semana-2.ipynb",
      "provenance": [],
      "collapsed_sections": [],
      "include_colab_link": true
    },
    "kernelspec": {
      "name": "python3",
      "display_name": "Python 3"
    },
    "language_info": {
      "name": "python"
    }
  },
  "cells": [
    {
      "cell_type": "markdown",
      "metadata": {
        "id": "view-in-github",
        "colab_type": "text"
      },
      "source": [
        "<a href=\"https://colab.research.google.com/github/IEEE-CodeUp/curso-python-projeto/blob/main/Aula_Semana_2.ipynb\" target=\"_parent\"><img src=\"https://colab.research.google.com/assets/colab-badge.svg\" alt=\"Open In Colab\"/></a>"
      ]
    },
    {
      "cell_type": "markdown",
      "source": [
        "# Projeto Code Up - Semana 2\n",
        "\n",
        "## Sumário\n",
        "*   Variáveis\n",
        "*   Tipos de Dados\n",
        "*   Operadores"
      ],
      "metadata": {
        "id": "IyGdf4w5NIx8"
      }
    },
    {
      "cell_type": "markdown",
      "source": [
        "## Variáveis\n",
        "\n",
        "Variáveis são utilizadas para armazenar valores e para dar nome a uma área de memória do computador onde armazenamos dados.\n",
        "\n",
        "Python é uma linguagem dinamicamente tipada, ou seja, os tipos de variáveis em Python são compreendidos automaticamente pelo interpretador, sem que haja a necessidade de se especificar o tipo da variável no momento de sua declaração, como é o caso de algumas outras linguagens. Isso significa também que o tipo da variável poder variar durante a execução do programa.\n",
        "\n",
        "Quando você estiver usando variáveis em Python, você precisa aderir a algumas regras e orientações:\n",
        "\n",
        "- Os nomes das variáveis podem conter apenas letras, números e sublinhados. Eles podem começar com uma letra ou um sublinhado, mas não com um número. Por exemplo, você pode chamar uma mensagem de variavel_1, mas não 1_messagem.\n",
        "\n",
        "- Não são permitidos espaços em nomes de variáveis, mas os sublinhados podem ser usados para separar palavras em nomes de variáveis. Por exemplo, a \"mensagem_de_saudação\" funciona, mas a \"mensagem de saudação\" causará erros.\n",
        "\n",
        "- Evite usar palavras-chave Python e nomes de funções como nomes de variáveis, ou seja, não use palavras que Python tenha reservado para um determinado propósito programático, como a palavra print.\n",
        "\n",
        "- Os nomes das variáveis devem ser curtos, mas descritivos. Por exemplo, o nome é melhor do que n, nome_de_aluno é melhor do que s_n, e nome_comprimento é melhor do que comprimento_do_nome_das_pessoas.\n",
        "\n",
        "- Tenha cuidado ao utilizar a letra minúscula l e a letra maiúscula O porque podem ser confundidos com os números 1 e 0. Pode ser necessária alguma prática para aprender como criar bons nomes de variáveis, especialmente à medida que seus programas se tornam mais interessantes e complicados. Como você escreve mais programas e começa a ler o código de outras pessoas, você vai ficar melhor ao inventar nomes significativos.\n",
        "\n",
        "## **Importante saber:**\n",
        "\n",
        "Constantes em Python - Uma constante é como uma variável cujo valor permanece o mesmo durante toda a vida de um programa. A linguagem Python não tem tipos de constante embutidos, mas os programadores de Python usam todas as letras maiúsculas para indicar que uma variável deve ser tratada como uma constante e nunca deve ser alterada. Como por exemplo:"
      ],
      "metadata": {
        "id": "3KpX3enKOdIm"
      }
    },
    {
      "cell_type": "code",
      "source": [
        "# TIPOS VÁLIDOS DE VARIAVEIS\n",
        "a1 = 5\n",
        "_b = 2\n",
        "salário_médio = 100\n",
        "\n",
        "# NÃO VÁLIDOS\n",
        "1a \n",
        "salário médio\n",
        "Cas@\n",
        "print"
      ],
      "metadata": {
        "id": "L6HUqLgU2Ey0"
      },
      "execution_count": null,
      "outputs": []
    },
    {
      "cell_type": "code",
      "source": [
        "#Essa é uma maneira de representar uma constante em Python\n",
        "\n",
        "PI = 3.14\n",
        "\n",
        "print(PI)"
      ],
      "metadata": {
        "id": "ZW0Nu-Z0wHaM",
        "colab": {
          "base_uri": "https://localhost:8080/"
        },
        "outputId": "7b2936a6-1203-41bd-f6b9-4589d0f1a656"
      },
      "execution_count": null,
      "outputs": [
        {
          "output_type": "stream",
          "name": "stdout",
          "text": [
            "3.14\n",
            "3.0\n"
          ]
        }
      ]
    },
    {
      "cell_type": "markdown",
      "source": [
        "## Tipos de Dados\n",
        "\n",
        "Os tipos de dados são divididos em dois grandes grupos:\n",
        "\n",
        "  * Primitivos: Os tipos de dados primitivos são os tipos básicos que devem ser implementados por todas as linguagens de programação, como os números reais, inteiros, booleanos, caracteres e strings. \n",
        "  \n",
        "  * Não Primitivos: Os tipos de dados não primitivos, normalmente são os vetores, matrizes, classes, enumerações, etc., que costumam ser estruturas de dados mais complexas do que os tipos de dados primitivos.\n",
        "\n",
        "# Exemplos:\n",
        "\n",
        "Inteiro (int)\n",
        "  * É composto por cacteres numéricos inteiros, ou seja, é usado para um número não decimal podendo ser positivo ou negativo.\n"
      ],
      "metadata": {
        "id": "K7BvhA3HPSlz"
      }
    },
    {
      "cell_type": "code",
      "source": [
        "a = 10\n",
        "b = 256\n",
        "print(type(a))\n",
        "print(type(b))\n"
      ],
      "metadata": {
        "id": "HPOmK54n0rw3",
        "colab": {
          "base_uri": "https://localhost:8080/"
        },
        "outputId": "586d61d1-e262-481c-faa7-d51c7041b3c8"
      },
      "execution_count": null,
      "outputs": [
        {
          "output_type": "stream",
          "name": "stdout",
          "text": [
            "<class 'int'>\n",
            "<class 'int'>\n"
          ]
        }
      ]
    },
    {
      "cell_type": "markdown",
      "source": [
        "\n",
        "Ponto Flutuante ou Decimal (float)\n",
        "  * É composto por algarismos decimais, desse modo  é utilizado  para números racionais (aqueles que podem ser representados por uma fração)."
      ],
      "metadata": {
        "id": "r6KuAXvt0reO"
      }
    },
    {
      "cell_type": "code",
      "source": [
        "altura = 1.65\n",
        "peso = 51.5\n",
        "print(type(altura))\n",
        "print(type(peso))"
      ],
      "metadata": {
        "id": "KA64Nfkp0xJE",
        "colab": {
          "base_uri": "https://localhost:8080/"
        },
        "outputId": "683db391-9c10-4cc6-87af-76f5f743c615"
      },
      "execution_count": null,
      "outputs": [
        {
          "output_type": "stream",
          "name": "stdout",
          "text": [
            "<class 'float'>\n",
            "<class 'float'>\n"
          ]
        }
      ]
    },
    {
      "cell_type": "markdown",
      "source": [
        "Complexo (complex)\n",
        " * Representa os números complexos, normalmente usado em cálculos geométricos e científicos. \n",
        " * Composto de duas partes: A parte **real** e **imaginária**, sendo que a parte imaginária é composta por um **j** no sufixo."
      ],
      "metadata": {
        "id": "3kkIzBU10rBY"
      }
    },
    {
      "cell_type": "code",
      "source": [
        "a = 32 - 5j\n",
        "b = 25 + 30j\n",
        "print(type(a))\n",
        "print(type(b))\n",
        "print(complex(26+2j))"
      ],
      "metadata": {
        "id": "Btx67Wrh00_Z",
        "colab": {
          "base_uri": "https://localhost:8080/"
        },
        "outputId": "be6cd64a-b0f8-40ea-a079-d12f5569f42c"
      },
      "execution_count": null,
      "outputs": [
        {
          "output_type": "stream",
          "name": "stdout",
          "text": [
            "<class 'complex'>\n",
            "<class 'complex'>\n",
            "(26+2j)\n"
          ]
        }
      ]
    },
    {
      "cell_type": "markdown",
      "source": [
        "\n",
        "String (str):\n",
        "\n",
        "* As variáveis do tipo string são utilizadas para armazenar sequências de caracteres, normalmente utilizadas em textos ou mensagens. O tipo string é muito útil e bastante utilizado para exibir mensagens ou mesmo para gerar outros arquivos.\n",
        "\n",
        "```\n",
        "\"Isso é uma string.\"\n",
        "'Isso também é uma string.'\n",
        "```\n",
        "\n",
        "Algumas funções para strings:\n",
        "- Ao utilizar o método title() cada palavra começa com uma letra maiúscula.\n",
        "- O tamanho de uma string pode ser obtido utilizando-se a função len. Essa função retorna o número de caracteres na string."
      ],
      "metadata": {
        "id": "gZ1Q4rgu0q4_"
      }
    },
    {
      "cell_type": "code",
      "source": [
        "nome = \"Ada Lovelace\"\n",
        "nome2 = 'sAMARA oliveira'\n",
        "print(len(nome))\n",
        "print(nome2.title())\n",
        "print(nome.upper())\n",
        "print(nome.lower())"
      ],
      "metadata": {
        "id": "heSA9uJA06xr",
        "colab": {
          "base_uri": "https://localhost:8080/"
        },
        "outputId": "161b0998-4b46-46d0-bf9d-d6151548c662"
      },
      "execution_count": null,
      "outputs": [
        {
          "output_type": "stream",
          "name": "stdout",
          "text": [
            "12\n",
            "Samara Oliveira\n",
            "ADA LOVELACE\n",
            "ada lovelace\n"
          ]
        }
      ]
    },
    {
      "cell_type": "markdown",
      "source": [
        "## Interpolação de strings\n",
        "\n",
        "### f-strings\n",
        "\n",
        "Esta nova forma de formatação de strings é poderosa e fácil de usar. Ela fornece acesso a expressões Python embutidas dentro das constantes de strings."
      ],
      "metadata": {
        "id": "_BkmrAW6KZ_G"
      }
    },
    {
      "cell_type": "code",
      "source": [
        "nome = 'World'\n",
        "program = 'Python'\n",
        "print(f'Hello {nome}! This is {program}')\n",
        "\n",
        "a = 12\n",
        "b = 3\n",
        "print(f'12 multiply 3 is {a * b}.')"
      ],
      "metadata": {
        "id": "29vAdH2dK_Oq",
        "colab": {
          "base_uri": "https://localhost:8080/"
        },
        "outputId": "23b52667-512b-4b56-c73d-b3350fbdd6a1"
      },
      "execution_count": null,
      "outputs": [
        {
          "output_type": "stream",
          "name": "stdout",
          "text": [
            "Hello World! This is Python\n",
            "12 multiply 3 is 36.\n"
          ]
        }
      ]
    },
    {
      "cell_type": "markdown",
      "source": [
        "### %-formatting\n",
        "\n",
        "Onde o símbolo de % foi utilizado para indicar a composição da string anterior com o conteúdo da variável X. O %d dentro da primeira string é o que chamamos de marcador de posição. O marcador indica que naquela posição estaremos colocando um valor inteiro.\n",
        "\n",
        "Tipos de marcadores de posição:\n",
        "- %d inteiros\n",
        "- %s strings\n",
        "- %f decimais"
      ],
      "metadata": {
        "id": "EieUD6rNK_8g"
      }
    },
    {
      "cell_type": "code",
      "source": [
        "X = 20\n",
        "print(\"João tem %d anos\" % X)\n",
        "\n",
        "nome = input(\"Digite seu nome:\")\n",
        "print(\"Você digitou %s\" % nome)\n",
        "print(\"Olá, %s!\" % nome)"
      ],
      "metadata": {
        "id": "HHjt36osK_HO",
        "colab": {
          "base_uri": "https://localhost:8080/"
        },
        "outputId": "3015fb4e-36bb-46b5-b1d2-7ae1f1170c59"
      },
      "execution_count": null,
      "outputs": [
        {
          "output_type": "stream",
          "name": "stdout",
          "text": [
            "João tem 20 anos\n",
            "Digite seu nome:Samara\n",
            "Você digitou Samara\n",
            "Olá, Samara!\n"
          ]
        }
      ]
    },
    {
      "cell_type": "markdown",
      "source": [
        "### Str.format()\n",
        "\n",
        "Nesta formatação de strings usamos a função format(). Onde substituimos o local de onde será inserida a variável por {}, e utilizamos a função format() para informar qual será a variável utilizada."
      ],
      "metadata": {
        "id": "1D1TPATHLAHl"
      }
    },
    {
      "cell_type": "code",
      "source": [
        "nome = input(\"Digite seu nome:\")\n",
        "idade = 26\n",
        "print(\"Olá, {}. Sua idade é: {}\".format(nome,idade))\n",
        "print(\"Olá,\", nome,\". Sua idade é: \", idade)\n",
        "\n",
        "nome = 'world'\n",
        "print('Hello, {}'.format(nome))"
      ],
      "metadata": {
        "id": "JKcte7DIKZeT",
        "colab": {
          "base_uri": "https://localhost:8080/"
        },
        "outputId": "a262d593-e350-4c1e-9f65-273774897225"
      },
      "execution_count": null,
      "outputs": [
        {
          "output_type": "stream",
          "name": "stdout",
          "text": [
            "Digite seu nome:Samara\n",
            "Olá, Samara. Sua idade é: 26\n",
            "Olá, Samara . Sua idade é:  26\n",
            "Hello, world\n"
          ]
        }
      ]
    },
    {
      "cell_type": "markdown",
      "source": [
        "Boolean (bool)\n",
        "\n",
        "*   É um tipo de dado lógico que pode assumir somente dois valores: verdadeiro ou falso (**True** e **False** em Python). Na lógica computacional, podem ser considerados como 0 e 1.\n",
        "\n"
      ],
      "metadata": {
        "id": "oJAP2bif0q0h"
      }
    },
    {
      "cell_type": "code",
      "source": [
        "feriado = False\n",
        "fim_de_semana = True\n",
        "print(type(feriado))\n",
        "print(type(fim_de_semana))"
      ],
      "metadata": {
        "id": "J7GOYhEV06q7",
        "colab": {
          "base_uri": "https://localhost:8080/"
        },
        "outputId": "9f9f1d30-ba1a-4839-ec01-5ad48b3826e3"
      },
      "execution_count": null,
      "outputs": [
        {
          "output_type": "stream",
          "name": "stdout",
          "text": [
            "<class 'bool'>\n",
            "<class 'bool'>\n"
          ]
        }
      ]
    },
    {
      "cell_type": "markdown",
      "source": [
        "Listas (list)\n",
        "\n",
        "*   Listas agrupam um conjunto de elementos variados, podendo conter: inteiros, floats, strings, outras listas e outros tipos. Elas são definidas utilizando-se colchetes para delimitar a lista e vírgulas para separar os elementos.\n",
        "\n"
      ],
      "metadata": {
        "id": "m3lT-b4R0qvj"
      }
    },
    {
      "cell_type": "code",
      "source": [
        "alunos = ['Amanda', 'Ana', 'Bruno', 'João']\n",
        "notas = [10, 8.5, 7.8, 8.0] \n",
        "\n",
        "print(type(alunos))\n",
        "print(type(notas))"
      ],
      "metadata": {
        "id": "pFJL11CZ1GEK",
        "colab": {
          "base_uri": "https://localhost:8080/"
        },
        "outputId": "0548ea67-6738-472a-d1ec-3884c0e14450"
      },
      "execution_count": null,
      "outputs": [
        {
          "output_type": "stream",
          "name": "stdout",
          "text": [
            "<class 'list'>\n",
            "<class 'list'>\n"
          ]
        }
      ]
    },
    {
      "cell_type": "markdown",
      "source": [
        "Tuplas (tuple)\n",
        "\n",
        "*   Assim como Lista, Tupla é um tipo que agrupa um conjunto de elementos. Porém sua forma de definição é diferente: utilizamos parênteses e também separado por vírgula. A diferença para Lista é que Tuplas são imutáveis, ou seja, após sua definição, Tuplas não podem ser modificadas.\n",
        "\n"
      ],
      "metadata": {
        "id": "x2PbVaWU0qm5"
      }
    },
    {
      "cell_type": "code",
      "source": [
        "valores = (90, 79, 54, 32, 21)\n",
        "pontos = (100, 94.05, 86.8, 62)\n",
        "\n",
        "print(type(valores))\n",
        "print(type(pontos))"
      ],
      "metadata": {
        "id": "utbybVb31MkP",
        "colab": {
          "base_uri": "https://localhost:8080/"
        },
        "outputId": "d63e9e2a-c707-4078-9d42-91331db13615"
      },
      "execution_count": null,
      "outputs": [
        {
          "output_type": "stream",
          "name": "stdout",
          "text": [
            "<class 'tuple'>\n",
            "<class 'tuple'>\n"
          ]
        }
      ]
    },
    {
      "cell_type": "markdown",
      "source": [
        "Dicionários (dict)\n",
        "\n",
        "*   Dict é um tipo de dado muito flexível do Python. Eles são utilizados para agrupar elementos através da estrutura de chave e valor, onde a chave é o primeiro elemento seguido por dois pontos e pelo valor."
      ],
      "metadata": {
        "id": "dJrcfAfV1HF0"
      }
    },
    {
      "cell_type": "code",
      "source": [
        "altura = {'Amanda': 1.65, 'Ana': 1.60, 'João': 1.70}\n",
        "peso = {'Amanda': 60, 'Ana': 58, 'João': 68}\n",
        "\n",
        "print(type(altura))\n",
        "print(type(peso))\n",
        "\n",
        "altura[1]"
      ],
      "metadata": {
        "id": "_J-LlChi1L8N",
        "colab": {
          "base_uri": "https://localhost:8080/",
          "height": 235
        },
        "outputId": "526f3d96-1602-4584-dcf2-81f09fa4e2da"
      },
      "execution_count": null,
      "outputs": [
        {
          "output_type": "stream",
          "name": "stdout",
          "text": [
            "<class 'dict'>\n",
            "<class 'dict'>\n"
          ]
        },
        {
          "output_type": "error",
          "ename": "KeyError",
          "evalue": "ignored",
          "traceback": [
            "\u001b[0;31m---------------------------------------------------------------------------\u001b[0m",
            "\u001b[0;31mKeyError\u001b[0m                                  Traceback (most recent call last)",
            "\u001b[0;32m<ipython-input-23-d5b555fb43b9>\u001b[0m in \u001b[0;36m<module>\u001b[0;34m()\u001b[0m\n\u001b[1;32m      5\u001b[0m \u001b[0mprint\u001b[0m\u001b[0;34m(\u001b[0m\u001b[0mtype\u001b[0m\u001b[0;34m(\u001b[0m\u001b[0mpeso\u001b[0m\u001b[0;34m)\u001b[0m\u001b[0;34m)\u001b[0m\u001b[0;34m\u001b[0m\u001b[0;34m\u001b[0m\u001b[0m\n\u001b[1;32m      6\u001b[0m \u001b[0;34m\u001b[0m\u001b[0m\n\u001b[0;32m----> 7\u001b[0;31m \u001b[0maltura\u001b[0m\u001b[0;34m[\u001b[0m\u001b[0;36m1\u001b[0m\u001b[0;34m]\u001b[0m\u001b[0;34m\u001b[0m\u001b[0;34m\u001b[0m\u001b[0m\n\u001b[0m",
            "\u001b[0;31mKeyError\u001b[0m: 1"
          ]
        }
      ]
    },
    {
      "cell_type": "markdown",
      "source": [
        "## Atribuição múltipla\n",
        "\n",
        "Python permite atribuir valores a múltiplas variáveis em uma única linha."
      ],
      "metadata": {
        "id": "SypLwVa1yxS2"
      }
    },
    {
      "cell_type": "code",
      "source": [
        "nota1, nota2, nota3 = 2, 0.5, 3\n",
        "\n",
        "print (nota1)\n",
        "print (nota2)\n",
        "print (nota3)"
      ],
      "metadata": {
        "id": "aK8Q8Htg0l2W",
        "colab": {
          "base_uri": "https://localhost:8080/"
        },
        "outputId": "00187818-db6b-4203-a551-cb109ee77b83"
      },
      "execution_count": null,
      "outputs": [
        {
          "output_type": "stream",
          "name": "stdout",
          "text": [
            "2\n",
            "0.5\n",
            "3\n"
          ]
        }
      ]
    },
    {
      "cell_type": "markdown",
      "source": [
        "## Como mudar o tipo de uma variável\n",
        "\n",
        "Como citado na aula anterior, a função input sempre retorna valores do tipo string, ou seja, não importa se digitamos apenas números, o resultado sempre é string. Para resolver esse pequeno problema, vamos utilizar a função int para converter o valor retornado em um número inteiro, e a função float para convertê-lo em número decimal ou de ponto flutuante."
      ],
      "metadata": {
        "id": "H-jfjfFa1G9k"
      }
    },
    {
      "cell_type": "code",
      "source": [
        "#Antes da conversão\n",
        "altura = 1.82\n",
        "print(type(altura))\n",
        "\n",
        "#Convertendo\n",
        "altura1=str(altura)\n",
        "\n",
        "#Depois da conversão\n",
        "print(type(altura1))\n",
        "print(altura1)"
      ],
      "metadata": {
        "id": "xj5J8tfE1Pwt"
      },
      "execution_count": null,
      "outputs": []
    },
    {
      "cell_type": "markdown",
      "source": [
        "# Operadores\n",
        "\n",
        "Os operadores são utilizados para construir expressões lógicas, aritméticas, associativas, atribuir valores a variáveis e compará-los. Trata-se de um recurso utilizado nas tarefas mais fundamentais da programação.\n",
        "\n"
      ],
      "metadata": {
        "id": "vcvdX-w8PmS5"
      }
    },
    {
      "cell_type": "markdown",
      "source": [
        "## Operadores aritméticos\n",
        "\n",
        "- \\+ (Adição ou sinal positivo)\n",
        "  - Realiza a soma entre operandos\n",
        "  - Adiciona o sinal de positivo ao número\n",
        "\n",
        "- \\- (Subtração ou sinal negativo)\t\n",
        "  - Realiza a subtração entre operandos\n",
        "  - Adiciona o sinal de negativo ao número\n",
        "\n",
        "- \\* (Multiplicação)\n",
        "  - Realiza a multiplicação entre operandos\n",
        "\n",
        "- / (Divisão)\n",
        "  - Realiza a divisão entre operandos\n",
        "\n",
        "- // (Divisão inteira)\n",
        "  - Realiza a divisão entre operandos e a parte decimal do resultado\n",
        "\n",
        "- % (Módulo)\n",
        "  - Retorna o resto da divisão entre operandos\n",
        "\n",
        "- ** (Exponenciação)\n",
        "  - Retorna um número elevado a potência de outro\n",
        "\n",
        "Precedência de operadores aritméticos: Os parênteses são utilizados em Python da mesma forma que em expressões matemáticas, ou seja, para alterar a ordem de execução de uma operação. Para relembrar a ordem de precedência das operações, temos as seguintes prioridades:\n",
        "1. Exponenciação ou potenciação (**).\n",
        "2. Multiplicação (*) e divisão (/ e %).\n",
        "3. Adição (+) e subtração (-)."
      ],
      "metadata": {
        "id": "ttmgEb3hvWAD"
      }
    },
    {
      "cell_type": "code",
      "source": [
        ""
      ],
      "metadata": {
        "id": "rD-Xqq_gfTbx"
      },
      "execution_count": null,
      "outputs": []
    },
    {
      "cell_type": "markdown",
      "source": [
        "## Operadores de atribuição\n",
        "\n",
        "  * São operadores binários, ou seja, executam ações com dois operandos. Sendo que o operando da esquerda é o nome de uma varável e o da direita pode ser um valor literal, outra variável ou uma expressão.\n",
        "  * Sempre opera da direita para esquerda, desse modo o valor localizado a direita do operador é avaliado primeiro, logo o resultado é atribuído ao operador da esquerda."
      ],
      "metadata": {
        "id": "14U8ivkkIR_E"
      }
    },
    {
      "cell_type": "code",
      "source": [
        "#Exemplos de atribuições válidas\n",
        " x = 7 \n",
        " x = 8+2\n",
        " y = 5*9\n",
        " x = y\n",
        " \n",
        " #Exemplos de atribuições inválidas\n",
        " x + 3 = 8\n",
        " x * y = z\n",
        " x / 2 = y"
      ],
      "metadata": {
        "id": "f97D0MrFvnsy"
      },
      "execution_count": null,
      "outputs": []
    },
    {
      "cell_type": "markdown",
      "source": [
        " * Além do operador composto pelo = , é possível combinar o sinal com operadores aritméticos.\n",
        "    * Exemplo:\n",
        "\n",
        "    x **+=** 3 -> x = x + 3\n",
        "\n",
        "    x **-=** 3 -> x = x - 3\n",
        "\n",
        "    x ***=** 3 -> x = x*3"
      ],
      "metadata": {
        "id": "W32D3vD4QYHz"
      }
    },
    {
      "cell_type": "code",
      "source": [
        "x = 10\n",
        "x **= 2\n",
        "print(x)"
      ],
      "metadata": {
        "id": "rqsuIszTbFQ8",
        "colab": {
          "base_uri": "https://localhost:8080/"
        },
        "outputId": "439ff4d9-ac9e-4b56-e272-f45b4e8cd277"
      },
      "execution_count": null,
      "outputs": [
        {
          "output_type": "stream",
          "name": "stdout",
          "text": [
            "100\n"
          ]
        }
      ]
    },
    {
      "cell_type": "markdown",
      "source": [
        "## Operadores de comparação\n",
        "\n",
        "*   Só podem ter como um  resultado um valor booleano, ou seja, verdadeiro ou falso.\n",
        "* Os operadores mais comuns são:\n",
        "  * igual: ==\n",
        "  * diferente: !=\n",
        "  * maior que: >\n",
        "  * menor que: <\n",
        "  * maior ou igual a >=\n",
        "  * menor ou igual a <=\n",
        "\n"
      ],
      "metadata": {
        "id": "SI8qopO2vV0v"
      }
    },
    {
      "cell_type": "code",
      "source": [
        "a = 2\n",
        "b = 2\n",
        "\n",
        "a < b"
      ],
      "metadata": {
        "id": "InudHJ6Nvmyv",
        "colab": {
          "base_uri": "https://localhost:8080/"
        },
        "outputId": "982773bb-aa45-4aa8-97eb-8cf584abfc57"
      },
      "execution_count": null,
      "outputs": [
        {
          "output_type": "execute_result",
          "data": {
            "text/plain": [
              "False"
            ]
          },
          "metadata": {},
          "execution_count": 41
        }
      ]
    },
    {
      "cell_type": "markdown",
      "source": [
        "## Operadores lógicos\n",
        "Os operadores lógicos são usados para unir duas ou mais expressões condicionais. Isso é feito por meio de conectivos.\n",
        "\n",
        "*   and: Retorna *True* se todas as condições forem verdadeiras, caso contrário retorna *False*\n",
        "*   or: Retorna *True* se uma das condições for verdadeiras, caso contrário retorna *False*\n",
        "*   not: Inverte o resultado - se o resultado da expressão for *True*, o operador retorna *False*"
      ],
      "metadata": {
        "id": "mCh1DBv6vVv7"
      }
    },
    {
      "cell_type": "code",
      "source": [
        "a = 1\n",
        "b = 2\n",
        "\n",
        "not(a == 2 and b == 2)"
      ],
      "metadata": {
        "id": "srQGbAmSvl6-",
        "colab": {
          "base_uri": "https://localhost:8080/"
        },
        "outputId": "d2f387f7-35f1-4bea-d3c6-d3e881badc36"
      },
      "execution_count": null,
      "outputs": [
        {
          "output_type": "execute_result",
          "data": {
            "text/plain": [
              "True"
            ]
          },
          "metadata": {},
          "execution_count": 46
        }
      ]
    },
    {
      "cell_type": "markdown",
      "source": [
        "## Operadores de identidade\n",
        "Os operadores de identidade servem para a comparação de objetos. Nessa comparação é verificado se eles ocupam a mesma posição na memória\n",
        "\n",
        "*  is:\tRetorna *True* se as variáveis comparadas forem o mesmo objeto\n",
        "*  is not:\tRetorna *True* se as variáveis comparadas não forem o mesmo objeto"
      ],
      "metadata": {
        "id": "o6Y-ky85vVlA"
      }
    },
    {
      "cell_type": "code",
      "source": [
        "a = 1\n",
        "b = 'Olá'\n",
        "c = 2\n",
        "\n",
        "a is not b"
      ],
      "metadata": {
        "id": "C-TIt2DsvlkC",
        "colab": {
          "base_uri": "https://localhost:8080/"
        },
        "outputId": "fcea9f08-57b8-43d6-cc94-892224be0635"
      },
      "execution_count": null,
      "outputs": [
        {
          "output_type": "execute_result",
          "data": {
            "text/plain": [
              "True"
            ]
          },
          "metadata": {},
          "execution_count": 51
        }
      ]
    },
    {
      "cell_type": "markdown",
      "source": [
        "## Operadores de associação\n",
        "Os operadores de associação são utilizados para verificar se uma sequência contém um objeto.\n",
        "\n",
        "*   in:\tRetorna *True* caso o valor seja encontrado na sequência\n",
        "*   not in:\tRetorna *True* caso o valor não seja encontrado na sequência"
      ],
      "metadata": {
        "id": "YpQCcbrlvVrx"
      }
    },
    {
      "cell_type": "code",
      "source": [
        "notas = [10, 8.5, 7.8, 8.0]\n",
        "minha_nota = 9\n",
        "\n",
        "minha_nota not in notas"
      ],
      "metadata": {
        "id": "Lo5Q_JNzvVRv",
        "colab": {
          "base_uri": "https://localhost:8080/"
        },
        "outputId": "e04e6c61-ec93-4619-ad75-96f717bd0bd3"
      },
      "execution_count": null,
      "outputs": [
        {
          "output_type": "execute_result",
          "data": {
            "text/plain": [
              "True"
            ]
          },
          "metadata": {},
          "execution_count": 55
        }
      ]
    },
    {
      "cell_type": "markdown",
      "source": [
        "## Operadores de caracteres\n",
        "\n",
        "O operador de caractere *+* é um operador de concatenação de *strings*, quando é usado com dois valores que são um caractere."
      ],
      "metadata": {
        "id": "r6pyt9Bcvib6"
      }
    },
    {
      "cell_type": "code",
      "source": [
        "nome = \"Samara\"\n",
        "sobrenome = \"Oliveira\"\n",
        "nomeCompleto = nome + \" \" + sobrenome\n",
        "print(nomeCompleto)"
      ],
      "metadata": {
        "id": "AIg886E_viIb",
        "colab": {
          "base_uri": "https://localhost:8080/"
        },
        "outputId": "7e274638-4e74-49a7-856c-72bbc3f12541"
      },
      "execution_count": null,
      "outputs": [
        {
          "output_type": "stream",
          "name": "stdout",
          "text": [
            "Samara Oliveira\n"
          ]
        }
      ]
    },
    {
      "cell_type": "markdown",
      "source": [
        "## Exercícios\n",
        "\n",
        "1. Faça um programa que solicite o preço de uma mercadoria e o percentual de desconto. Exiba o valor do desconto e o preço a pagar.\n",
        "\n",
        "2. Escreva um programa que calcule o tempo de uma viagem de carro. Pergunte a distância a percorrer e a velocidade média esperada para a viagem.\n",
        "\n",
        "3. Escreva uma expressão para determinar se uma pessoa deve ou não pagar imposto. Considere que pagam imposto pessoas cujo salário é maior que R$ 1.200,00.\n",
        "\n",
        "4. Escreva uma expressão que será utilizada para decidir se um aluno foi ou não aprovado. Para ser aprovado, todas as médias do aluno devem ser maiores que 7. Considere que o aluno cursa apenas três matérias, e que a nota de cada uma está armazenada nas seguintes variáveis: matéria1, matéria2 e matéria3.\n",
        "\n",
        "5. Escreva um programa para calcular a redução do tempo de vida de um fumante. Pergunte a quantidade de cigarros fumados por dia e quantos anos ele já fumou. Considere que um fumante perde 10 minutos de vida a cada cigarro, calcule quantos dias de vida um fumante perderá. Exiba o total em dias."
      ],
      "metadata": {
        "id": "6iWchDHi4Qb-"
      }
    },
    {
      "cell_type": "markdown",
      "source": [
        "# Lista de exercício\n",
        "\n",
        "> [Download](https://drive.google.com/file/d/13Aw3_SLkGR2OAAlyyYjIA_snpsXVNxsy/view?usp=sharing)\n",
        "\n",
        "# Links úteis\n",
        "\n",
        "> [String Format Examples](https://docs.python.org/3/library/string.html#formatexamples)\n",
        "\n",
        "> [Python String Interpolation](https://www.programiz.com/python-programming/string-interpolation)\n",
        "\n",
        "> [Operadores](https://devschannel.com/logica-de-programacao/operadores)\n",
        "\n",
        "> [Operadores no Python](https://www.devmedia.com.br/operadores-no-python/40693)\n",
        "\n",
        "> [Tabela verdade: o que é, como funciona e exercícios!](https://www.stoodi.com.br/blog/matematica/tabela-verdade-o-que-e/)\n",
        "\n",
        "> [Curso de RACIOCÍNIO LÓGICO MATEMÁTICO ou RLM](https://www.youtube.com/playlist?list=PL83s8LGM84J4Uj7Zylll5LTK26wm-q-7K)\n",
        "\n",
        "> [Aula 03 - O que são variáveis? - Lógica de Programação para Iniciantes](https://www.youtube.com/watch?v=gTEcsh3xCoA)\n",
        "\n",
        "> [TIPOS DE VARIÁVEIS DISPONÍVEIS NO PYTHON](https://pythonacademy.com.br/blog/tipos-de-variaveis-no-python)\n",
        "\n",
        "> [O que são variáveis](https://www.devmedia.com.br/o-que-sao-variaveis/40728)\n",
        "\n",
        "> [ASCII (A tabela que TODO programador precisa conhecer) // Dicionário do Programador](https://www.youtube.com/watch?v=rjBuymn8Gm8)\n",
        "\n",
        "> [Case Styles / Naming Convention (Padrões de Nomes para Identificadores) // Dicionário do Programador](https://www.youtube.com/watch?v=HBPz6h1ck9g)\n",
        "\n",
        "> [Java // Dicionário do Programador](https://www.youtube.com/watch?v=sZAxLRMxEUo)\n",
        "\n",
        "> [Programação Orientada a Objetos (POO) // Dicionário do Programador](https://www.youtube.com/watch?v=QY0Kdg83orY)\n",
        "\n",
        "> [Carreira – Competências do desenvolvedor(a)](https://www.dio.me/articles/carreira-competencias-do-desenvolvedora)\n",
        "\n",
        "> [Os 13 conhecimentos essenciais a um programador de sucesso!](https://becode.com.br/conhecimentos-essenciais-programador/)\n",
        "\n",
        "# Referências\n",
        "> [Dev Media](https://www.devmedia.com.br/)\n",
        "\n",
        "> [Python](https://www.python.org/)\n",
        "\n",
        "> [Python Documentation](https://docs.python.org/)\n",
        "\n",
        "> [Python Academy](https://pythonacademy.com.br/)\n",
        "\n",
        "> [Python Brasil](https://wiki.python.org.br/)\n",
        "\n"
      ],
      "metadata": {
        "id": "L5LFvUWC0UXP"
      }
    }
  ]
}
