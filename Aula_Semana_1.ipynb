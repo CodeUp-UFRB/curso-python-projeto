{
  "nbformat": 4,
  "nbformat_minor": 0,
  "metadata": {
    "colab": {
      "name": "Aula-Semana-1.ipynb",
      "provenance": [],
      "collapsed_sections": [],
      "include_colab_link": true
    },
    "kernelspec": {
      "name": "python3",
      "display_name": "Python 3"
    },
    "language_info": {
      "name": "python"
    }
  },
  "cells": [
    {
      "cell_type": "markdown",
      "metadata": {
        "id": "view-in-github",
        "colab_type": "text"
      },
      "source": [
        "<a href=\"https://colab.research.google.com/github/IEEE-CodeUp/curso-python-projeto/blob/main/Aula_Semana_1.ipynb\" target=\"_parent\"><img src=\"https://colab.research.google.com/assets/colab-badge.svg\" alt=\"Open In Colab\"/></a>"
      ]
    },
    {
      "cell_type": "markdown",
      "source": [
        "# Projeto Code Up - Semana 1\n",
        "\n",
        "## Sumário\n",
        "*   O que é a Linguagem Python?\n",
        "*   Instalação e configuração no Windows\n",
        "*   Instalação e configuração no Linux\n",
        "*   Ambientes Virtuais\n",
        "*   PEP8 - Boas Práticas\n",
        "*   Funções Primitivas"
      ],
      "metadata": {
        "id": "IyGdf4w5NIx8"
      }
    },
    {
      "cell_type": "markdown",
      "source": [
        "## O que é Python?\n",
        "\n",
        "> Uma linguagem de programação acessível, o que a torna altamente utilizada desde os programadores mais experientes até os que estão começando agora. É dinâmica, interpretada, modular e orientada a objeto. Também possibilita um maior controle  e estabilidade ao código, principalmente para projetos grandes.\n",
        "\n",
        "## Instalação\n",
        "\n",
        "Primeiro vamos conferir em cada Sistema Operacional (SO) se há o Python instalado.\n",
        "\n",
        "### Windows\n",
        "\n",
        "Abra o prompt de comando e rode o comando abaixo:\n",
        "\n",
        "```\n",
        "python --version\n",
        "```\n",
        "\n",
        "Caso não tenha instalado, entre no site [Python](https://www.python.org/downloads/) e faça download da versão mais recente.\n",
        "\n",
        "Agora siga essas instruções:\n",
        "\n",
        "1. Marque a opção \"*Add Python to PATH*\"\n",
        "2. Clique em \"*Install Now*\"\n",
        "3. Se tudo ocorrer bem, aparecerá uma tela \"*Setup was successful*\". Clique em \"Close\".\n",
        "4. Verifique novamente pelo cmd se o Python foi instalado. Repetindo o comando *python --version* no prompt de comando.\n",
        "5. Caso esteja tudo ok, digite\n",
        "```\n",
        "pip --version\n",
        "```\n",
        "Esse comando retornará a versão do pip que está instalada em sua máquina. O pip é o gerenciador de pacote do Python. Com ele você poderá adicionar novas funcionalidades ao seu Python.\n",
        "\n",
        "### Linux\n",
        "\n",
        "Verifique se já tem o Python instalado, se você usa GNU/Linux, provavelmente já possui alguma versão do Python instalada por padrão. Para conferir, digite em um terminal:\n",
        "```\n",
        "which python\n",
        "```\n",
        "ou\n",
        "```\n",
        "which python3\n",
        "```\n",
        "Caso não tenha instalado, siga essas instruções:\n",
        "1. Digite o seguinte comando no terminal:\n",
        "```\n",
        "sudo apt-get install python3\n",
        "```\n",
        "\n",
        "2. Instale o gerenciador de pacotes pip:\n",
        "```\n",
        "sudo apt-get install python3-pip\n",
        "```\n",
        "\n",
        "### Mac\n",
        "Verifique se já tem o Python instalado, se você usa macOS 10.2 ou superior, provavelmente já possui alguma versão do Python instalada por padrão. Para conferir, digite em um terminal:\n",
        "```\n",
        "which python\n",
        "```\n",
        "ou\n",
        "```\n",
        "which python3\n",
        "```\n",
        "Antes de fazer a instalação do Python, é preciso fazer a instalação do XCode, que pode ser baixado na App Store, do pacote para desenvolvimento em linha de comando no macOS, command line tools e dos gerenciadores de pacotes pip e homebrew.\n",
        "1. Digite o seguinte comando no terminal:\n",
        "```\n",
        "xcode-select --install\n",
        "```\n",
        "\n",
        "2. Instale o gerenciador de pacotes pip:\n",
        "```\n",
        "sudo easy_install pip\n",
        "```\n",
        "\n",
        "3. Atualize o gerenciador de pacotes pip:\n",
        "```\n",
        "sudo pip install --upgrade pip\n",
        "```\n",
        "\n",
        "4. Instale o homebrew:\n",
        "```\n",
        "ruby -e \"$(curl -fsSL https://raw.github.com/mxcl/homebrew/go)\"\n",
        "```\n",
        "\n",
        "5. Instale o Python3:\n",
        "```\n",
        "brew install python3\n",
        "```"
      ],
      "metadata": {
        "id": "3KpX3enKOdIm"
      }
    },
    {
      "cell_type": "markdown",
      "source": [
        "## Ambientes Virtuais\n",
        "* O que é:  é o ambiente de desenvolvimento que permite ao programador escrever o seu código.\n",
        "\n",
        "  * IDE\n",
        "    *   Editor de código fonte: Permite que o programador digite todas as codificações e regras do software.\n",
        "    *   Compilador: Responsável por tornar o código-fonte em um executável.\n",
        "    * Debugger: Responsável pela depuração, permitindo que o desenvolvedor modifique o código mesmo que esteja em execução.\n",
        "* Diferença entre IDE e editores de códigos:\n",
        "  * A IDE é um ambiente ideal para se programar, utilizado para código mais complexo ou programadores com mais experiência. Já os editores de código, são usados para a criação e edição de códigos simples.\n",
        "\n",
        "### Alguns editores de código fonte:\n",
        "* [Notepad++](https://notepad-plus-plus.org/)\n",
        "* [Sublime Text](https://www.sublimetext.com/)\n",
        "* [Vim](https://www.vim.org/)\n",
        "\n",
        "\n",
        "### Qual IDE utilizar?\n",
        "*   On-line:\n",
        "    * [Colab](https://colab.research.google.com/)\n",
        "    * [Replit](https://replit.com/languages/python3)\n",
        "    * [Shell](https://www.python.org/shell/)\n",
        "    * [Sympy](https://live.sympy.org/)\n",
        "\n",
        "*   Off-line:\n",
        "    * Spyder: Para Windows e Mac\n",
        "\n",
        "      [Link para download](https://docs.spyder-ide.org/current/installation.html)\n",
        "    * IDLE: Windows, Mac e Linux\n",
        "\n",
        "     [Link para download](https://www.python.org/downloads/)\n",
        "    * Visual Studio Code: Windows, Mac e Linux\n",
        "\n",
        "     [Link para download](https://code.visualstudio.com/#alt-downloads)\n",
        "\n",
        "    * Thonny: Windows, Mac e Linux\n",
        "    \n",
        "      [ Link para download](https://thonny.org/)"
      ],
      "metadata": {
        "id": "K7BvhA3HPSlz"
      }
    },
    {
      "cell_type": "markdown",
      "source": [
        "## PEP8\n",
        "\n",
        "O que é: guia de estilo para códigos em python.\n",
        "\n",
        "Algumas regras:\n",
        "  * Indentação\n",
        "      * Python é uma linguagem indentada, isto é, o espaçamento no começo de cada linha é importante para a execução do código, o guia define que, esta indentação deve ser de 4 espaços ou 1 tab.\n",
        "  * Limitação no Tamanho das Linhas.\n",
        "      * Limite todas as linhas a no máximo 79 colunas. Para blocos de texto longos, docstrings e comentários, limite à 72 caracteres.\n",
        "  * Espaços em branco em expressões\n",
        "      * ```\n",
        "          # Válido.\n",
        "          compra(hamburguer[0], {ovos: 2})\n",
        "\n",
        "          # Inválido.\n",
        "          compra( hamburguer[ 0 ], { ovos: 2 } )\n",
        "        ```\n",
        "      * ```\n",
        "          # Correto.\n",
        "          compra(1)\n",
        "\n",
        "          # Incorreto.\n",
        "          compra (1)\n",
        "        ```\n",
        "\n",
        "  * Nomes de variáveis e funções\n",
        "      *  Há várias convenções de nomes aceitas pela PEP 8, mas a mais comum é a snake_case, onde as palavras são separadas por sublinha(_) e a completamente em caixa baixa.\n",
        "\n",
        "Sites para conferir se o código está seguindo o PEP8:\n",
        "*   [PEP8 online](http://pep8online.com/)\n",
        "*   [PythonChecker](https://www.pythonchecker.com/)"
      ],
      "metadata": {
        "id": "vcvdX-w8PmS5"
      }
    },
    {
      "cell_type": "markdown",
      "source": [
        "## Funções Primitivas\n",
        "\n",
        "### Help\n",
        "\n",
        "> A função *help()* apresenta a documentação da linguagem Python. Quando inserido um comando da linguagem entre os parênteses é exibido como utilizar os atríbutos, as suas propriedades e as funções disponíveis."
      ],
      "metadata": {
        "id": "MuQCtcj-Ppq8"
      }
    },
    {
      "cell_type": "code",
      "source": [
        "help()"
      ],
      "metadata": {
        "id": "OyZJfd_FEwFI"
      },
      "execution_count": null,
      "outputs": []
    },
    {
      "cell_type": "code",
      "source": [
        "help(print)"
      ],
      "metadata": {
        "id": "Yr4qw6IAEPwH",
        "colab": {
          "base_uri": "https://localhost:8080/"
        },
        "outputId": "67518e75-d782-40c9-cd95-da166fe0d229"
      },
      "execution_count": null,
      "outputs": [
        {
          "output_type": "stream",
          "name": "stdout",
          "text": [
            "Help on built-in function print in module builtins:\n",
            "\n",
            "print(...)\n",
            "    print(value, ..., sep=' ', end='\\n', file=sys.stdout, flush=False)\n",
            "    \n",
            "    Prints the values to a stream, or to sys.stdout by default.\n",
            "    Optional keyword arguments:\n",
            "    file:  a file-like object (stream); defaults to the current sys.stdout.\n",
            "    sep:   string inserted between values, default a space.\n",
            "    end:   string appended after the last value, default a newline.\n",
            "    flush: whether to forcibly flush the stream.\n",
            "\n"
          ]
        }
      ]
    },
    {
      "cell_type": "code",
      "source": [
        "help(input)"
      ],
      "metadata": {
        "id": "Mu4bqRkqE2wh"
      },
      "execution_count": null,
      "outputs": []
    },
    {
      "cell_type": "markdown",
      "source": [
        "### Print\n",
        "\n",
        "> Tem como objetivo exibir o que o desenvolvedor deseja na tela, ou enviar para outro dispositivo e até mesmo imprimir dentro de um arquivo de texto. É definido como:\n",
        "\n",
        "\n",
        "```\n",
        "print(*objects, sep=' ', end='\\n', file=sys.stdout, flush=False)\n",
        "```\n",
        "onde objects é o que será exibido os valores, seja ele uma palavra, frase ou variável, sep é o caractere de separação, e end o caractere de separação.\n",
        "\n",
        "Por enquanto não iremos trabalhar com os parâmetros *file* e *flush*."
      ],
      "metadata": {
        "id": "vfBq2iTpEc2s"
      }
    },
    {
      "cell_type": "code",
      "source": [
        "print(\"Olá mundo!\")"
      ],
      "metadata": {
        "id": "1R7NXN30EYMp",
        "colab": {
          "base_uri": "https://localhost:8080/"
        },
        "outputId": "fe34629e-750f-4904-ad89-0081127166d2"
      },
      "execution_count": null,
      "outputs": [
        {
          "output_type": "stream",
          "name": "stdout",
          "text": [
            "Olá mundo!\n"
          ]
        }
      ]
    },
    {
      "cell_type": "code",
      "source": [
        "print('Dia', 'Mês', 'Ano', sep='.')"
      ],
      "metadata": {
        "id": "xX4IwgfBH7xp",
        "colab": {
          "base_uri": "https://localhost:8080/"
        },
        "outputId": "c6a70de7-abc2-4e73-cb6c-d36c32c1da1d"
      },
      "execution_count": null,
      "outputs": [
        {
          "output_type": "stream",
          "name": "stdout",
          "text": [
            "Dia.Mês.Ano\n"
          ]
        }
      ]
    },
    {
      "cell_type": "code",
      "source": [
        "print('Essa é a ', end='')\n",
        "print('Primeira semana de aula')"
      ],
      "metadata": {
        "id": "buPA0xiPH7k4",
        "colab": {
          "base_uri": "https://localhost:8080/"
        },
        "outputId": "c25d3389-af76-4675-cc1d-9fc21be15381"
      },
      "execution_count": null,
      "outputs": [
        {
          "output_type": "stream",
          "name": "stdout",
          "text": [
            "Essa é a Primeira semana de aula\n"
          ]
        }
      ]
    },
    {
      "cell_type": "code",
      "source": [
        "print(\"Meu\", \"nome\", \"é =\", sep='-', end='\\n\\n\\n')\n",
        "print(\"Samara\")"
      ],
      "metadata": {
        "id": "R1eA_GHNIc0V",
        "colab": {
          "base_uri": "https://localhost:8080/"
        },
        "outputId": "265adfdc-4857-4419-eb1c-a7fce23d2b89"
      },
      "execution_count": null,
      "outputs": [
        {
          "output_type": "stream",
          "name": "stdout",
          "text": [
            "Meu-nome-é =\n",
            "\n",
            "\n",
            "Samara\n"
          ]
        }
      ]
    },
    {
      "cell_type": "code",
      "source": [
        "print(\"Minha idade é: \", 26)"
      ],
      "metadata": {
        "id": "P4alOoidJBps",
        "colab": {
          "base_uri": "https://localhost:8080/"
        },
        "outputId": "51de7623-19d2-481a-d173-1d0e7a30dcc1"
      },
      "execution_count": null,
      "outputs": [
        {
          "output_type": "stream",
          "name": "stdout",
          "text": [
            "Minha idade é:  26\n"
          ]
        }
      ]
    },
    {
      "cell_type": "markdown",
      "source": [
        "\n",
        "### Input\n",
        "\n",
        "> É responsável pela entrada de dados em um programa. Recebe como parâmetro uma string (iremos estudar isso na próxima aula)."
      ],
      "metadata": {
        "id": "H80U7BtOEYtv"
      }
    },
    {
      "cell_type": "code",
      "source": [
        "input(\"Escreva seu nome: \")"
      ],
      "metadata": {
        "id": "Y3PzRnf2EfK8"
      },
      "execution_count": null,
      "outputs": []
    },
    {
      "cell_type": "markdown",
      "source": [
        "# Lista de exercício\n",
        "\n",
        "> [Download](https://drive.google.com/file/d/1RAWSkwC0UKibjtf8DbQ3-rQktajhHeT0/view?usp=sharing)\n",
        "\n",
        "# Links úteis\n",
        "\n",
        "> [Instalando o Python no Windows](https://python.org.br/instalacao-windows/)\n",
        "\n",
        "> [Instalando o Python no Linux](https://python.org.br/instalacao-linux/)\n",
        "\n",
        "> [Instalando o Python no Mac OS X](https://python.org.br/instalacao-mac/)\n",
        "\n",
        "> [PEP8 Original](https://pep8.org/)\n",
        "\n",
        "> [PEP8 Traduzida](https://wiki.python.org.br/GuiaDeEstilo)\n",
        "\n",
        "> [Os 5 Melhores Livros de Python Para Programadores](https://programadoresdepre.com.br/os-5-melhores-livros-de-python/)\n",
        "\n",
        "> [Linguagens de programação interpretadas x compiladas: qual é a diferença?](https://www.freecodecamp.org/portuguese/news/linguagens-de-programacao-interpretadas-x-compiladas-qual-e-a-diferenca/)\n",
        "\n",
        "> [O que é uma IDE?](https://www.alura.com.br/artigos/o-que-e-uma-ide)\n",
        "\n",
        "> [C (A Linguagem de Programação que é uma MÃE) // Dicionário do Programador](https://www.youtube.com/watch?v=6mUCcsnCn08)\n",
        "\n",
        "> [Clean Code // Dicionário do Programador](https://www.youtube.com/watch?v=ln6t3uyTveQ)\n",
        "\n",
        "> [Compilador (O Programa Essencial de Todos os Programadores) // Dicionário do Programador](https://www.youtube.com/watch?v=afUiVvDUIRA)\n",
        "\n",
        "> [Git // Dicionário do Programador](https://www.youtube.com/watch?v=za5KWZ5pRag)\n",
        "\n",
        "> [GITHUB // Dicionário do Programador](https://www.youtube.com/watch?v=myQuetgSEsY)\n",
        "\n",
        "> [IDE // Dicionário do Programador](https://www.youtube.com/watch?v=GPcIjsz-2cA)\n",
        "\n",
        "> [Linux // Dicionário do Programador](https://www.youtube.com/watch?v=eVD9siK8WzU)\n",
        "\n",
        "> [Python // Dicionário do Programador](https://www.youtube.com/watch?v=uOgDa1rlqjE)\n",
        "\n",
        "> [3 Técnicas Que Eu Uso Para Aprender a Programar Qualquer Coisa (mesmo sem ter o dom da programação)](https://www.youtube.com/watch?v=ZtMzB5CoekE)\n",
        "\n",
        "> [COMO ESTUDAR ALGO NOVO SEM SOFRIMENTO?](https://www.youtube.com/watch?v=mP7Q98s0urQ)\n",
        "\n",
        "> [O método número 1 para parar de PROCRASTINAR | Estude e trabalhe melhor | Pomodoro Technique](https://www.youtube.com/watch?v=_qITBYvhwuU)\n",
        "\n",
        "> [Como ESTUDAR muito mais facilmente os novos conceitos | Método de Feynman](https://www.youtube.com/watch?v=8awK4eBt--k)\n",
        "\n",
        "\n",
        "# Referências\n",
        "\n",
        "> [Python](https://www.python.org/)\n",
        "\n",
        "> [Python Brasil](https://wiki.python.org.br/)"
      ],
      "metadata": {
        "id": "L5LFvUWC0UXP"
      }
    }
  ]
}